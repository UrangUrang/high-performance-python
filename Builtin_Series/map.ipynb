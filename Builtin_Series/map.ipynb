{
 "metadata": {
  "language_info": {
   "codemirror_mode": {
    "name": "ipython",
    "version": 3
   },
   "file_extension": ".py",
   "mimetype": "text/x-python",
   "name": "python",
   "nbconvert_exporter": "python",
   "pygments_lexer": "ipython3",
   "version": "3.9.2"
  },
  "orig_nbformat": 2,
  "kernelspec": {
   "name": "python392jvsc74a57bd07812ea015bdcee6f23a998adcdd2ef97c151c0c241b7b7070987d9313e41299d",
   "display_name": "Python 3.9.2 64-bit ('3.9')"
  },
  "metadata": {
   "interpreter": {
    "hash": "7812ea015bdcee6f23a998adcdd2ef97c151c0c241b7b7070987d9313e41299d"
   }
  }
 },
 "nbformat": 4,
 "nbformat_minor": 2,
 "cells": [
  {
   "cell_type": "code",
   "execution_count": 4,
   "metadata": {},
   "outputs": [
    {
     "output_type": "execute_result",
     "data": {
      "text/plain": [
       "'map(func, *iterables) --> map object\\n\\nMake an iterator that computes the function using arguments from\\neach of the iterables.  Stops when the shortest iterable is exhausted.'"
      ]
     },
     "metadata": {},
     "execution_count": 4
    }
   ],
   "source": [
    "# https://docs.python.org/3/library/functions.html#map\n",
    "# Here is the official document\n",
    "map.__doc__"
   ]
  },
  {
   "cell_type": "code",
   "execution_count": 62,
   "metadata": {},
   "outputs": [
    {
     "output_type": "stream",
     "name": "stdout",
     "text": [
      "<map object at 0x7ff940925bb0>\n1\n2\n3\n"
     ]
    }
   ],
   "source": [
    "# 첫 번째 인자로 func, 두 번째 인자로는 iterables 오브젝트를 받는다.\n",
    "# 공식 문서에는 첫 번째 인자를 func라고 써놓았지만 실제로는 callable이라고 보아도 무방하다.\n",
    "# 아래 예와 같이 <class 'int'>를 넣어도 동작한다. \n",
    "int_map = map(int, [1, 2, 3]) # return map object\n",
    "print(int_map)\n",
    "for i in int_map:\n",
    "    print(i)"
   ]
  },
  {
   "cell_type": "code",
   "execution_count": 32,
   "metadata": {},
   "outputs": [
    {
     "output_type": "stream",
     "name": "stdout",
     "text": [
      "<map object at 0x7ff970553bb0>\n1\n2\n3\n"
     ]
    },
    {
     "output_type": "error",
     "ename": "ValueError",
     "evalue": "invalid literal for int() with base 10: 'Hello, Python Korea'",
     "traceback": [
      "\u001b[0;31m---------------------------------------------------------------------------\u001b[0m",
      "\u001b[0;31mValueError\u001b[0m                                Traceback (most recent call last)",
      "\u001b[0;32m<ipython-input-32-55df39a0d4a0>\u001b[0m in \u001b[0;36m<module>\u001b[0;34m\u001b[0m\n\u001b[1;32m      5\u001b[0m \u001b[0mint_string_map\u001b[0m \u001b[0;34m=\u001b[0m \u001b[0mmap\u001b[0m\u001b[0;34m(\u001b[0m\u001b[0mint\u001b[0m\u001b[0;34m,\u001b[0m \u001b[0;34m[\u001b[0m\u001b[0;36m1\u001b[0m\u001b[0;34m,\u001b[0m \u001b[0;36m2\u001b[0m\u001b[0;34m,\u001b[0m \u001b[0;36m3\u001b[0m\u001b[0;34m,\u001b[0m \u001b[0;34m\"Hello, Python Korea\"\u001b[0m\u001b[0;34m]\u001b[0m\u001b[0;34m)\u001b[0m \u001b[0;31m# return map object\u001b[0m\u001b[0;34m\u001b[0m\u001b[0;34m\u001b[0m\u001b[0m\n\u001b[1;32m      6\u001b[0m \u001b[0mprint\u001b[0m\u001b[0;34m(\u001b[0m\u001b[0mint_string_map\u001b[0m\u001b[0;34m)\u001b[0m\u001b[0;34m\u001b[0m\u001b[0;34m\u001b[0m\u001b[0m\n\u001b[0;32m----> 7\u001b[0;31m \u001b[0;32mfor\u001b[0m \u001b[0mi\u001b[0m \u001b[0;32min\u001b[0m \u001b[0mint_string_map\u001b[0m\u001b[0;34m:\u001b[0m\u001b[0;34m\u001b[0m\u001b[0;34m\u001b[0m\u001b[0m\n\u001b[0m\u001b[1;32m      8\u001b[0m     \u001b[0mprint\u001b[0m\u001b[0;34m(\u001b[0m\u001b[0mi\u001b[0m\u001b[0;34m)\u001b[0m\u001b[0;34m\u001b[0m\u001b[0;34m\u001b[0m\u001b[0m\n",
      "\u001b[0;31mValueError\u001b[0m: invalid literal for int() with base 10: 'Hello, Python Korea'"
     ]
    }
   ],
   "source": [
    "# 첫번째 인자로 들어간 int\n",
    "# 두번째 인자, 리스트에 정수와 문자열을 섞어서 넣어보았다.\n",
    "# int(\"Hello, Python Korea\")는 ValueError를 발생시킨다. \n",
    "# 다만 map 오브젝트가 생성되는 시점이 아닌 실제로 리스트의 4번째 인자가 실행되는 시점에 Exception이 발생\n",
    "int_string_map = map(int, [1, 2, 3, \"Hello, Python Korea\"]) # return map object\n",
    "print(int_string_map)\n",
    "for i in int_string_map:\n",
    "    print(i)"
   ]
  },
  {
   "cell_type": "code",
   "execution_count": 61,
   "metadata": {},
   "outputs": [
    {
     "output_type": "stream",
     "name": "stdout",
     "text": [
      "1 2 3\n1 2 3\n"
     ]
    }
   ],
   "source": [
    "# Unpack\n",
    "# map 오브젝트를 아래와 같은 방식으로 나열할 수 있다.\n",
    "a, b, c = map(int, [1, 2, 3])\n",
    "print(a, b, c)\n",
    "\n",
    "print(*map(int, [1,2,3]))"
   ]
  },
  {
   "cell_type": "code",
   "execution_count": 35,
   "metadata": {},
   "outputs": [
    {
     "output_type": "stream",
     "name": "stdout",
     "text": [
      "2\n3\n4\n"
     ]
    }
   ],
   "source": [
    "# Use custom function\n",
    "def plus_one(x):\n",
    "    return x + 1\n",
    "\n",
    "for i in map(plus_one, [1,2,3]):\n",
    "    print(i)"
   ]
  },
  {
   "cell_type": "code",
   "execution_count": 39,
   "metadata": {},
   "outputs": [
    {
     "output_type": "stream",
     "name": "stdout",
     "text": [
      "3\n4\n5\n13\n14\n15\n"
     ]
    }
   ],
   "source": [
    "# Map with lambda\n",
    "plus_two = lambda x: x+2\n",
    "\n",
    "for i in map(plus_two, [1,2,3]):\n",
    "    print(i)\n",
    "\n",
    "for i in map(lambda x: x+3, [10, 11, 12]):\n",
    "    print(i)"
   ]
  },
  {
   "cell_type": "code",
   "execution_count": 58,
   "metadata": {},
   "outputs": [
    {
     "output_type": "stream",
     "name": "stdout",
     "text": [
      "4 5 6\n"
     ]
    }
   ],
   "source": [
    "# Map chaining\n",
    "# map()의 두번째 인자로는 iterable이 가능한데, \n",
    "# map 오브젝트 역시 iterable이기에 인자로 사용가능하다.\n",
    "# 응용하면 다양한 방식으로 적용 가능해보이지만 개인적으로는 읽기가 좀 어려워보인다.\n",
    "m1 = map(int, [1,2,3])\n",
    "m2 = map(lambda x: x+1, m1)\n",
    "m3 = map(lambda x: x+2, m2)\n",
    "print(*m3)"
   ]
  },
  {
   "cell_type": "code",
   "execution_count": 60,
   "metadata": {},
   "outputs": [
    {
     "output_type": "stream",
     "name": "stdout",
     "text": [
      "Person name : Jinsoo |  Person name : Park | \n"
     ]
    }
   ],
   "source": [
    "# Map with Class constructor\n",
    "class Person:\n",
    "    def __init__(self, name):\n",
    "        self.name = name\n",
    "    def __repr__(self):\n",
    "        return f\"Person name : {self.name} | \"\n",
    "print(*map(Person, [\"Jinsoo\", \"Park\"]))\n"
   ]
  }
 ]
}